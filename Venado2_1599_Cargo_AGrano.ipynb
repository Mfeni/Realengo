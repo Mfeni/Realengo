{
  "cells": [
    {
      "cell_type": "markdown",
      "metadata": {
        "id": "view-in-github",
        "colab_type": "text"
      },
      "source": [
        "<a href=\"https://colab.research.google.com/github/Mfeni/Realengo/blob/main/Venado2_1599_Cargo_AGrano.ipynb\" target=\"_parent\"><img src=\"https://colab.research.google.com/assets/colab-badge.svg\" alt=\"Open In Colab\"/></a>"
      ]
    },
    {
      "cell_type": "markdown",
      "metadata": {
        "id": "th7kZ_7ptXCO"
      },
      "source": [
        "Pulsa el símbolo de \"play\" y observa la imagen que se muestra.\n",
        "*Si quieres que la imagen cambie un poco puedes pulsar play otra vez."
      ]
    },
    {
      "cell_type": "code",
      "execution_count": null,
      "metadata": {
        "colab": {
          "base_uri": "https://localhost:8080/",
          "height": 317
        },
        "id": "Mb9o_96Pseak",
        "outputId": "638d54c2-f521-4457-8a30-c7ef06af7e76"
      },
      "outputs": [
        {
          "data": {
            "image/png": "[encoded data removed]",
            "text/plain": [
              "<PIL.Image.Image image mode=RGB size=300x300>"
            ]
          },
          "metadata": {},
          "output_type": "display_data"
        }
      ],
      "source": [
        "from google.colab.patches import cv2_imshow #necesario para ver imagenes en el mismo cuadernillo\n",
        "import cv2 #importamos las librerias\n",
        "import numpy as np\n",
        "import random\n",
        "\n",
        "def lienzo(size):\n",
        "  lienzo= size*3\n",
        "  img = np.ones((lienzo,lienzo,3),dtype=np.uint8) #utilizamos la funcion ones\n",
        "  return img\n",
        "\n",
        "def cuadrado(size,linea,img):\n",
        "  cv2.line(img,(size, size), (size*2, size), (0, 0, 255), linea)\n",
        "  cv2.line(img,(size, size), (size, size*2), (0, 0, 255), linea)\n",
        "  cv2.line(img,(size*2, size), (size*2, size*2), (0, 0, 255), linea)\n",
        "  cv2.line(img,(size, size*2), (size*2, size*2), (0, 0, 255), linea)\n",
        "\n",
        "def dibujo(n,size): #ngrano (297)\n",
        "  img= lienzo(size)\n",
        "  cuadrado(size,2,img)\n",
        "  for i in range(n):\n",
        "    cv2.circle(img,(random.randint(0,size*3),random.randint(0,size*3)),2,(208,224,64),-1)\n",
        "\n",
        "  RGB_img = cv2.cvtColor(img, cv2.COLOR_BGR2RGB)\n",
        "  cv2_imshow(img)\n",
        "  cv2.imwrite('Venado.1599.A.Crg_Grano.jpg', RGB_img)\n",
        "dibujo(297,100)"
      ]
    },
    {
      "cell_type": "markdown",
      "metadata": {
        "id": "Qd2lBwsl9AT9"
      },
      "source": [
        "Pulsa el siguiente \"play\" que está abajo"
      ]
    },
    {
      "cell_type": "code",
      "execution_count": null,
      "metadata": {
        "colab": {
          "base_uri": "https://localhost:8080/"
        },
        "id": "i4X3bzOJChWE",
        "outputId": "9db762d9-b5da-4902-b179-b86c64cc703b"
      },
      "outputs": [
        {
          "output_type": "stream",
          "name": "stdout",
          "text": [
            "Hola, Soy Realengo. La imagen que viste nos ayudará a calcular\n",
            "  el reparto de los bienes de paz en Venado del año 1599. ¡Comencemos !\n",
            "¿Que reparto te tocó calcular?: \n",
            "  A. Granos o plantas\n",
            "  B. Indumentaria\n",
            "  C. Instrumentos para manufactura\n",
            "  D. Herramientas para trabajo\n",
            "  E. Analizar el reparto\n",
            "Me tocó la opción: a\n",
            "En el año de 1599, se encargó al capitán Gabriel Ortíz de Fuenmayor\n",
            "    que trajera a Venado el reparto de piciete (tabaco) y lías (barricas de vino fermentando).\n",
            "    El juego consiste en saber cuánto debía repartir en total.\n",
            "    Observa cuidadosamente la imagen, cada punto azul representa \"1\" y el cuadro rojo cabe\n",
            "    nueve veces en el cuadro negro\n",
            "¿De cuánto fue el reparto?: 300\n",
            "El 300 es mayor al reparto\n",
            "¿De cuánto fue el reparto?: 200\n",
            "El 200 es menor al reparto\n",
            "¿De cuánto fue el reparto?: 250\n",
            "El 250 es menor al reparto\n",
            "¿De cuánto fue el reparto?: 260\n",
            "El 260 es menor al reparto\n",
            "¿De cuánto fue el reparto?: 270\n",
            "El 270 es menor al reparto\n",
            "¿De cuánto fue el reparto?: 280\n",
            "El 280 es menor al reparto\n",
            "¿De cuánto fue el reparto?: 290\n",
            "El 290 es menor al reparto\n",
            "¿De cuánto fue el reparto?: 294\n",
            "El 294 es menor al reparto\n",
            "¿De cuánto fue el reparto?: 295\n",
            "El 295 es menor al reparto\n",
            "¿De cuánto fue el reparto?: 296\n",
            "El 296 es menor al reparto\n",
            "¿De cuánto fue el reparto?: 297\n",
            "¡¡¡ LO LOGRASTE !!!\n",
            "captura tus resultados\n",
            "Que se repartió y en total cuánto se repartió?: 297 de grano tabaco y vino\n",
            "¿Como imaginas que transportaban los bienes a Venado?: en carertas o mulas\n",
            "¿Que crees que hacian los indios guachichiles y tlaxcaltecas con estos bienes?: los usaban\n",
            "¿Crees que fue mucho o poco lo que les dieron a cambio de la paz?¿por qué?fue poco porque les dieron pocas cosas\n",
            "¡Bien, terminaste tu parte!...\n",
            "            Tu párrafo quedará así: \n",
            " En 1599, el reparto de los bienes de paz en Venado tenía 297 de grano tabaco y vino,\n",
            "                  Los bienes, que venian de Zacatecas, se transportaban en carertas o mulas,\n",
            "                  con estos bienes los indios los usaban y\n",
            "                  fue poco porque les dieron pocas cosas\n",
            "¿Quieres cambiar algo?(si/no)no\n",
            "Muy bien. Espera a que terminen los otros equipos\n"
          ]
        }
      ],
      "source": [
        "\n",
        "cerrar= False\n",
        "while cerrar ==False:\n",
        "  print(\"\"\"Hola, Soy Realengo. La imagen que viste nos ayudará a calcular\n",
        "  el reparto de los bienes de paz en Venado del año 1599. ¡Comencemos !\"\"\")\n",
        "  print(\"¿Que reparto te tocó calcular?: \")\n",
        "  print(\"  A. Granos o plantas\")\n",
        "  print(\"  B. Indumentaria\")\n",
        "  print(\"  C. Instrumentos para manufactura\")\n",
        "  print(\"  D. Herramientas para trabajo\")\n",
        "  print(\"  E. Analizar el reparto\")\n",
        "  respuesta = input(\"Me tocó la opción: \")\n",
        "  opcion=respuesta.lower()\n",
        "\n",
        "  if opcion!='a' and opcion!='b' and opcion!='c' and opcion!='d'and opcion!='e':\n",
        "    print(\" Opción no válida. Vuelve a ingresar una opción\")\n",
        "\n",
        "  if opcion=='a':\n",
        "    A1 = print(\"\"\"En el año de 1599, se encargó al capitán Gabriel Ortíz de Fuenmayor\n",
        "    que trajera a Venado el reparto de piciete (tabaco) y lías (barricas de vino fermentando).\n",
        "    El juego consiste en saber cuánto debía repartir en total.\n",
        "    Observa cuidadosamente la imagen, cada punto azul representa \"1\" y el cuadro rojo cabe\n",
        "    nueve veces en el cuadro negro\"\"\")\n",
        "\n",
        "    cerrar==False\n",
        "    while True:\n",
        "      valor=int(input(\"¿De cuánto fue el reparto?: \"))\n",
        "      if valor==297:\n",
        "        print(\"¡¡¡ LO LOGRASTE !!!\")\n",
        "        break\n",
        "      else:\n",
        "        if valor < 297:\n",
        "          print((f'El {valor} es menor al reparto'))\n",
        "        if valor > 297:\n",
        "          print(f'El {valor} es mayor al reparto')\n",
        "\n",
        "\n",
        "    cerrar=False\n",
        "    while cerrar==False:\n",
        "      print(\"captura tus resultados\")\n",
        "      A1= input(\"Que se repartió y en total cuánto se repartió?: \")\n",
        "      A2 = input(\"¿Como imaginas que transportaban los bienes a Venado?: \")\n",
        "      A3=  input(\"¿Que crees que hacian los indios guachichiles y tlaxcaltecas con estos bienes?: \")\n",
        "      A4= input(\"¿Crees que fue mucho o poco lo que les dieron a cambio de la paz?¿por qué?\")\n",
        "      print(\"\"\"¡Bien, terminaste tu parte!...\n",
        "            Tu párrafo quedará así: \"\"\")\n",
        "      ParrafoA=print(f''' En 1599, el reparto de los bienes de paz en Venado tenía {A1},\n",
        "                  Los bienes, que venian de Zacatecas, se transportaban {A2},\n",
        "                  con estos bienes los indios {A3} y\n",
        "                  {A4}''')\n",
        "\n",
        "      verifi=input('¿Quieres cambiar algo?(si/no)')\n",
        "      if verifi=='no'or verifi=='No'or verifi=='NO':\n",
        "        print(\"Muy bien. Espera a que terminen los otros equipos\")\n",
        "        cerrar=True\n",
        "      else:\n",
        "       cerrar =False"
      ]
    }
  ],
  "metadata": {
    "colab": {
      "provenance": [],
      "include_colab_link": true
    },
    "kernelspec": {
      "display_name": "Python 3",
      "name": "python3"
    },
    "language_info": {
      "name": "python"
    }
  },
  "nbformat": 4,
  "nbformat_minor": 0
}