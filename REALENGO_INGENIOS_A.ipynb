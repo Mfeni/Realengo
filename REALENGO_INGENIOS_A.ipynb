{
  "cells": [
    {
      "cell_type": "markdown",
      "metadata": {
        "id": "view-in-github",
        "colab_type": "text"
      },
      "source": [
        "<a href=\"https://colab.research.google.com/github/Mfeni/Realengo/blob/main/REALENGO_INGENIOS_A.ipynb\" target=\"_parent\"><img src=\"https://colab.research.google.com/assets/colab-badge.svg\" alt=\"Open In Colab\"/></a>"
      ]
    },
    {
      "cell_type": "code",
      "execution_count": null,
      "metadata": {
        "colab": {
          "base_uri": "https://localhost:8080/",
          "height": 1000
        },
        "id": "uN7M7Gpr0lRy",
        "outputId": "d1df78b9-ce0d-4930-aeda-5de3c84bb509"
      },
      "outputs": [
        {
          "output_type": "stream",
          "name": "stdout",
          "text": [
            "Hola, Soy Realengo ¡estudiemos lo que era un ingenio de fundir!\n",
            "¿Que te tocó hacer de nuestro ingenio?: \n",
            "  A. Describir el molino de agua\n",
            "  B. Describir los hornos de fundir\n",
            "  C. Describir la moneda de plata\n",
            "  D. Describir la casa de adobe\n",
            "  E. Describir la piedra de moler\n",
            "Me tocó la opción: A\n",
            "¿Qué palabras usaron para generar el molino de agua: Molino de agua ,monte\n",
            "¿Como funcionaban los molinos de agua y qué hacian con el mineral?: Funcionaban con la corriente del río ,la cual hacia que la rueda girará y comenzaba a moler \n",
            "¿Por qué crees que dejó de usarse?: Por que se descubrieron otros métodos que implicaban menos trabajo \n",
            "¿Qué modificarías a la imagen para que se pareciera más a un molino antiguo?: Que sea un río más grande,Que la casa sea más baja,que hubiera dos ruedas \n",
            "¡Bien, terminaste tu parte!...\n",
            "            Tu párrafo quedará así: \n",
            " Generamos un molino de agua con IA, usamos las palabras Molino de agua ,monte,\n",
            "                  los molinos de agua  Funcionaban con la corriente del río ,la cual hacia que la rueda girará y comenzaba a moler ,\n",
            "                  dejaron de usarse porque Por que se descubrieron otros métodos que implicaban menos trabajo .\n",
            "                  Para que la imagen fuera más real modificaríamos Que sea un río más grande,Que la casa sea más baja,que hubiera dos ruedas \n",
            "¿Quieres cambiar algo?(si/no)No\n",
            "Hola, Soy Realengo ¡estudiemos lo que era un ingenio de fundir!\n",
            "¿Que te tocó hacer de nuestro ingenio?: \n",
            "  A. Describir el molino de agua\n",
            "  B. Describir los hornos de fundir\n",
            "  C. Describir la moneda de plata\n",
            "  D. Describir la casa de adobe\n",
            "  E. Describir la piedra de moler\n"
          ]
        },
        {
          "output_type": "error",
          "ename": "KeyboardInterrupt",
          "evalue": "Interrupted by user",
          "traceback": [
            "\u001b[0;31m---------------------------------------------------------------------------\u001b[0m",
            "\u001b[0;31mKeyboardInterrupt\u001b[0m                         Traceback (most recent call last)",
            "\u001b[0;32m<ipython-input-3-836e98466f32>\u001b[0m in \u001b[0;36m<cell line: 2>\u001b[0;34m()\u001b[0m\n\u001b[1;32m      8\u001b[0m   \u001b[0mprint\u001b[0m\u001b[0;34m(\u001b[0m\u001b[0;34m\"  D. Describir la casa de adobe\"\u001b[0m\u001b[0;34m)\u001b[0m\u001b[0;34m\u001b[0m\u001b[0;34m\u001b[0m\u001b[0m\n\u001b[1;32m      9\u001b[0m   \u001b[0mprint\u001b[0m\u001b[0;34m(\u001b[0m\u001b[0;34m\"  E. Describir la piedra de moler\"\u001b[0m\u001b[0;34m)\u001b[0m\u001b[0;34m\u001b[0m\u001b[0;34m\u001b[0m\u001b[0m\n\u001b[0;32m---> 10\u001b[0;31m   \u001b[0mrespuesta\u001b[0m \u001b[0;34m=\u001b[0m \u001b[0minput\u001b[0m\u001b[0;34m(\u001b[0m\u001b[0;34m\"Me tocó la opción: \"\u001b[0m\u001b[0;34m)\u001b[0m\u001b[0;34m\u001b[0m\u001b[0;34m\u001b[0m\u001b[0m\n\u001b[0m\u001b[1;32m     11\u001b[0m   \u001b[0mopcion\u001b[0m\u001b[0;34m=\u001b[0m\u001b[0mrespuesta\u001b[0m\u001b[0;34m.\u001b[0m\u001b[0mlower\u001b[0m\u001b[0;34m(\u001b[0m\u001b[0;34m)\u001b[0m\u001b[0;34m\u001b[0m\u001b[0;34m\u001b[0m\u001b[0m\n\u001b[1;32m     12\u001b[0m   \u001b[0;32mif\u001b[0m \u001b[0mopcion\u001b[0m\u001b[0;34m!=\u001b[0m\u001b[0;34m'a'\u001b[0m \u001b[0;32mand\u001b[0m \u001b[0mopcion\u001b[0m\u001b[0;34m!=\u001b[0m\u001b[0;34m'b'\u001b[0m \u001b[0;32mand\u001b[0m \u001b[0mopcion\u001b[0m\u001b[0;34m!=\u001b[0m\u001b[0;34m'c'\u001b[0m \u001b[0;32mand\u001b[0m \u001b[0mopcion\u001b[0m\u001b[0;34m!=\u001b[0m\u001b[0;34m'd'\u001b[0m\u001b[0;32mand\u001b[0m \u001b[0mopcion\u001b[0m\u001b[0;34m!=\u001b[0m\u001b[0;34m'e'\u001b[0m\u001b[0;34m:\u001b[0m\u001b[0;34m\u001b[0m\u001b[0;34m\u001b[0m\u001b[0m\n",
            "\u001b[0;32m/usr/local/lib/python3.10/dist-packages/ipykernel/kernelbase.py\u001b[0m in \u001b[0;36mraw_input\u001b[0;34m(self, prompt)\u001b[0m\n\u001b[1;32m    849\u001b[0m                 \u001b[0;34m\"raw_input was called, but this frontend does not support input requests.\"\u001b[0m\u001b[0;34m\u001b[0m\u001b[0;34m\u001b[0m\u001b[0m\n\u001b[1;32m    850\u001b[0m             )\n\u001b[0;32m--> 851\u001b[0;31m         return self._input_request(str(prompt),\n\u001b[0m\u001b[1;32m    852\u001b[0m             \u001b[0mself\u001b[0m\u001b[0;34m.\u001b[0m\u001b[0m_parent_ident\u001b[0m\u001b[0;34m,\u001b[0m\u001b[0;34m\u001b[0m\u001b[0;34m\u001b[0m\u001b[0m\n\u001b[1;32m    853\u001b[0m             \u001b[0mself\u001b[0m\u001b[0;34m.\u001b[0m\u001b[0m_parent_header\u001b[0m\u001b[0;34m,\u001b[0m\u001b[0;34m\u001b[0m\u001b[0;34m\u001b[0m\u001b[0m\n",
            "\u001b[0;32m/usr/local/lib/python3.10/dist-packages/ipykernel/kernelbase.py\u001b[0m in \u001b[0;36m_input_request\u001b[0;34m(self, prompt, ident, parent, password)\u001b[0m\n\u001b[1;32m    893\u001b[0m             \u001b[0;32mexcept\u001b[0m \u001b[0mKeyboardInterrupt\u001b[0m\u001b[0;34m:\u001b[0m\u001b[0;34m\u001b[0m\u001b[0;34m\u001b[0m\u001b[0m\n\u001b[1;32m    894\u001b[0m                 \u001b[0;31m# re-raise KeyboardInterrupt, to truncate traceback\u001b[0m\u001b[0;34m\u001b[0m\u001b[0;34m\u001b[0m\u001b[0m\n\u001b[0;32m--> 895\u001b[0;31m                 \u001b[0;32mraise\u001b[0m \u001b[0mKeyboardInterrupt\u001b[0m\u001b[0;34m(\u001b[0m\u001b[0;34m\"Interrupted by user\"\u001b[0m\u001b[0;34m)\u001b[0m \u001b[0;32mfrom\u001b[0m \u001b[0;32mNone\u001b[0m\u001b[0;34m\u001b[0m\u001b[0;34m\u001b[0m\u001b[0m\n\u001b[0m\u001b[1;32m    896\u001b[0m             \u001b[0;32mexcept\u001b[0m \u001b[0mException\u001b[0m \u001b[0;32mas\u001b[0m \u001b[0me\u001b[0m\u001b[0;34m:\u001b[0m\u001b[0;34m\u001b[0m\u001b[0;34m\u001b[0m\u001b[0m\n\u001b[1;32m    897\u001b[0m                 \u001b[0mself\u001b[0m\u001b[0;34m.\u001b[0m\u001b[0mlog\u001b[0m\u001b[0;34m.\u001b[0m\u001b[0mwarning\u001b[0m\u001b[0;34m(\u001b[0m\u001b[0;34m\"Invalid Message:\"\u001b[0m\u001b[0;34m,\u001b[0m \u001b[0mexc_info\u001b[0m\u001b[0;34m=\u001b[0m\u001b[0;32mTrue\u001b[0m\u001b[0;34m)\u001b[0m\u001b[0;34m\u001b[0m\u001b[0;34m\u001b[0m\u001b[0m\n",
            "\u001b[0;31mKeyboardInterrupt\u001b[0m: Interrupted by user"
          ]
        }
      ],
      "source": [
        "cerrar= False\n",
        "while cerrar ==False:\n",
        "  print(\"Hola, Soy Realengo ¡estudiemos lo que era un ingenio de fundir!\")\n",
        "  print(\"¿Que te tocó hacer de nuestro ingenio?: \")\n",
        "  print(\"  A. Describir el molino de agua\")\n",
        "  print(\"  B. Describir los hornos de fundir\")\n",
        "  print(\"  C. Describir la moneda de plata\")\n",
        "  print(\"  D. Describir la casa de adobe\")\n",
        "  print(\"  E. Describir la piedra de moler\")\n",
        "  respuesta = input(\"Me tocó la opción: \")\n",
        "  opcion=respuesta.lower()\n",
        "  if opcion!='a' and opcion!='b' and opcion!='c' and opcion!='d'and opcion!='e':\n",
        "    print(\" Opción no válida. Vuelve a ingresar una opción\")\n",
        "\n",
        "  if opcion=='a':\n",
        "    A1 = input(\"¿Qué palabras usaron para generar el molino de agua: \")\n",
        "    A2 = input(\"¿Como funcionaban los molinos de agua y qué hacian con el mineral?: \")\n",
        "    A3=  input(\"¿Por qué crees que dejó de usarse?: \")\n",
        "    A4= input (\"¿Qué modificarías a la imagen para que se pareciera más a un molino antiguo?: \")\n",
        "    print(\"\"\"¡Bien, terminaste tu parte!...\n",
        "            Tu párrafo quedará así: \"\"\")\n",
        "    ParrafoA=print(f''' Generamos un molino de agua con IA, usamos las palabras {A1},\n",
        "                  los molinos de agua  {A2},\n",
        "                  dejaron de usarse porque {A3}.\n",
        "                  Para que la imagen fuera más real modificaríamos {A4}''')\n",
        "    verifi=input('¿Quieres cambiar algo?(si/no)')\n",
        "    if verifi=='no':\n",
        "      print(\"Muy bien. Espera a que terminen los otros equipos\")\n",
        "      cerrar=True\n",
        "    else:\n",
        "      cerrar =False\n",
        "\n",
        "  if opcion=='b':\n",
        "    B1 = input(\"¿Qué palabras usaron para generar el los hornos de fundir: \")\n",
        "    B2 = input(\"¿Qué combustible usaban los hornos y de donde los obtenían las personas?:\")\n",
        "    B3=  input(\"¿Que hacia el horno de fundición y que el de afinación?\")\n",
        "    B4= input(\"¿Que pasaba con los desechos de fundir?¿es posible verlos aún?: \")\n",
        "    print(\"\"\"¡Bien, terminaste tu parte!...\n",
        "            Tu párrafo quedará así: \"\"\")\n",
        "    ParrafoA=print(f''' Generamos unos hornos de fundir con IA, usamos las palabras {B1},\n",
        "                  Para funcionar, los hornos usaban {B2},\n",
        "                  En los ingenios habia al menos dos unos, uno de fundicion y otro de afinación,\n",
        "                  {B3}.\n",
        "                  Los que quedaba de la fundicón eran llamados grasas o escorias,\n",
        "                  {B4}''')\n",
        "    verifiB=input('¿Quieres cambiar algo?(si/no)')\n",
        "    if verifiB=='no':\n",
        "      print(\"Muy bien. Espera a que terminen los otros equipos\")\n",
        "      cerrar=True\n",
        "    else:\n",
        "      cerrar =False\n",
        "\n",
        "  if opcion=='c':\n",
        "    C1 = input(\"¿Que palabras usaron para generar la moneada de plata?\")\n",
        "    C2=  input(\"¿En que consistía el proceso de copleación para separar oro y plata:\")\n",
        "    C3= input (\"¿A dónde se llevaba la plata y que se hacía con ella?: \")\n",
        "    C4=  input(\"¿Como se llama el simbolo de la moneda y por qué lo lleva?:\")\n",
        "    print(\"\"\"¡Bien, terminaste tu parte!...\n",
        "            Tu párrafo quedará así: \"\"\")\n",
        "    print(f''' Generamos una moneda de plata con IA, usamos las palabras{C1}\n",
        "                 Desde 1600, en Pozos exitieron ingenios para separar oro y plata.\n",
        "                 El método más usado era el de copelación, {C2}\n",
        "                 Los metales valiosos como el oro y la plata {C3}\n",
        "                 La moneda tiene el simbolo  {C4}.\n",
        "                   ''')\n",
        "    verifiC=input('¿Quieres cambiar algo?(si/no)')\n",
        "    if verifiC=='no'or verifiC=='NO' or verifiC=='No':\n",
        "      print(\"Muy bien. Espera a que terminen los otros equipos\")\n",
        "      cerrar=True\n",
        "      Cfollow='no'\n",
        "    if verifiC=='si'or verifiC=='Si'or verifiC=='SI':\n",
        "      cerrar=False\n",
        "      Cfollow='no'\n",
        "\n",
        "  if opcion=='d':\n",
        "    D1 = input(\"¿Qué palabras usaron para generar la casa de adobe?: \")\n",
        "    D2=  input(\"¿Antiguamente, quienes vivian en estas casas, cuantas personas, a que se dedicaban?:\")\n",
        "    D3= input(\"¿Dónde imaginas que se encontraban estas casas?¿por qué?: \")\n",
        "    D4=  input(\"¿Qué modificarías a la imagen para que fuera más realista?: \")\n",
        "\n",
        "    print(\"\"\"¡Bien, terminaste tu parte!...\n",
        "            Tu párrafo quedará así: \"\"\")\n",
        "    print(f''' Generamos una casa en los ingenios de fundir con IA,\n",
        "                 usamos las palabras {D1}\n",
        "                 Antiguamente en estas casas vivian {D2}\n",
        "                 Estas casas se encontraban en {D3}\n",
        "                 Para que la imagen se pareciera más a una casa de 1600 {D4} ''')\n",
        "\n",
        "    verifiD=input('¿Quieres cambiar algo?(si/no)')\n",
        "    if verifiD=='no'or verifiD=='NO' or verifiD=='No':\n",
        "      print(\"Muy bien. Espera a que terminen los otros equipos\")\n",
        "      cerrar=True\n",
        "      Dfollow='no'\n",
        "    if verifiD=='si'or verifiD=='Si'or verifiD=='SI':\n",
        "      cerrar=False\n",
        "      Dfollow='no'\n",
        "\n",
        "  if opcion=='e':\n",
        "    A1 = input(\"¿Qué palabras usaron para generar la piedra de moler: \")\n",
        "    A2 = input(\"¿por que se les llamaba molinos de sangre?¿Como funcionaban?: \")\n",
        "    A3=  input(\"¿Por qué crees que dejaron de usarse?: \")\n",
        "    A4= input (\"¿Qué modificarías a la imagen para que se pareciera más a un molino tirado por animales?: \")\n",
        "    print(\"\"\"¡Bien, terminaste tu parte!...\n",
        "            Tu párrafo quedará así: \"\"\")\n",
        "    ParrafoA=print(f''' Generamos una piedra de moler para molino de de agua con IA, usamos las palabras {A1},\n",
        "                  Estas piedras eran conocidas como molinos de sangre porque {A2},\n",
        "                  dejaron de usarse porque {A3}.\n",
        "                  Para que la imagen fuera más real modificaríamos {A4}''')\n",
        "    verifi=input('¿Quieres cambiar algo?(si/no)')\n",
        "    if verifi=='no':\n",
        "      print(\"Muy bien. Espera a que terminen los otros equipos\")\n",
        "      cerrar=True\n",
        "    else:\n",
        "      cerrar =False"
      ]
    },
    {
      "cell_type": "code",
      "execution_count": null,
      "metadata": {
        "colab": {
          "background_save": true
        },
        "id": "c591QsL1qGKp"
      },
      "outputs": [],
      "source": [
        "\n"
      ]
    }
  ],
  "metadata": {
    "colab": {
      "provenance": [],
      "include_colab_link": true
    },
    "kernelspec": {
      "display_name": "Python 3",
      "name": "python3"
    },
    "language_info": {
      "name": "python"
    }
  },
  "nbformat": 4,
  "nbformat_minor": 0
}